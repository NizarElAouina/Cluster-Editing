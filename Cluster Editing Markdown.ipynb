{
 "cells": [
  {
   "cell_type": "markdown",
   "id": "f5dbef86",
   "metadata": {},
   "source": [
    "Ouvrir le fichier et représenter le graphe"
   ]
  },
  {
   "cell_type": "markdown",
   "id": "5756a050",
   "metadata": {},
   "source": [
    "<h3>Represent Data in adjancency matrix </h3>"
   ]
  },
  {
   "cell_type": "code",
   "execution_count": 21,
   "id": "43b3c73b",
   "metadata": {},
   "outputs": [
    {
     "name": "stdout",
     "output_type": "stream",
     "text": [
      "[[0 1 1 1 1 1 1 1 1 0]\n",
      " [1 0 1 1 1 1 0 0 1 0]\n",
      " [1 1 0 1 1 1 0 0 1 1]\n",
      " [1 1 1 0 1 1 1 0 0 1]\n",
      " [1 1 1 1 0 1 0 0 0 1]\n",
      " [1 1 1 1 1 0 0 0 0 1]\n",
      " [1 0 0 1 0 0 0 1 1 1]\n",
      " [1 0 0 0 0 0 1 0 1 1]\n",
      " [1 1 1 0 0 0 1 1 0 1]\n",
      " [0 0 1 1 1 1 1 1 1 0]]\n"
     ]
    }
   ],
   "source": [
    "import numpy as np\n",
    "import itertools\n",
    "\n",
    "graph = open(\"C:/Users/nizar/Desktop/wiss/heur/heur001.gr\", 'r')\n",
    "p,cep,n_vertices, n_edges=graph.readline().split()    #get first line of data in variables\n",
    "adjacency_matrix = [[0] * int(n_vertices) for _ in range(int(n_vertices))]  #Declare a n_edges dimension matrix full of zeros \n",
    "for line in graph:     #Traverse the matrix\n",
    "    u, v = map(int, line.split())    #Split the line into two variables since we have 2 integers\n",
    "    adjacency_matrix[u-1][v-1] = 1   #Replacing zeros with 1 if there is a link between 2 vertices\n",
    "    adjacency_matrix[v-1][u-1] = 1\n",
    "#print(adjacency_matrix)\n",
    "a=np.matrix(adjacency_matrix)        #We want a numpy matrix huh ;)\n",
    "print(a) \n"
   ]
  },
  {
   "cell_type": "markdown",
   "id": "d6e76daf",
   "metadata": {},
   "source": [
    "<h3>For visualisation and optimisation purposes, I only considered the triangular bottom half of the adjacency matrix.</h3>"
   ]
  },
  {
   "cell_type": "code",
   "execution_count": 22,
   "id": "eebd5e7d",
   "metadata": {},
   "outputs": [
    {
     "name": "stdout",
     "output_type": "stream",
     "text": [
      "[[0 0 0 0 0 0 0 0 0 0]\n",
      " [1 0 0 0 0 0 0 0 0 0]\n",
      " [1 1 0 0 0 0 0 0 0 0]\n",
      " [1 1 1 0 0 0 0 0 0 0]\n",
      " [1 1 1 1 0 0 0 0 0 0]\n",
      " [1 1 1 1 1 0 0 0 0 0]\n",
      " [1 0 0 1 0 0 0 0 0 0]\n",
      " [1 0 0 0 0 0 1 0 0 0]\n",
      " [1 1 1 0 0 0 1 1 0 0]\n",
      " [0 0 1 1 1 1 1 1 1 0]]\n"
     ]
    }
   ],
   "source": [
    "b=np.tril(a)  #For esthetical reasons, I only keep the lower part of the matrix, no data is lost though\n",
    "#for i in range(len(b)):\n",
    "    #for j in range(i):\n",
    "       # print(b[i][j])\n",
    "print(b)"
   ]
  },
  {
   "cell_type": "markdown",
   "id": "6f6cbe5a",
   "metadata": {},
   "source": [
    "<h4>Find squares function, but I didn't work with it actually, don't consider this function. Though, it helped me a lot to define the next function</h4>"
   ]
  },
  {
   "cell_type": "code",
   "execution_count": 23,
   "id": "0694d9c3",
   "metadata": {},
   "outputs": [
    {
     "data": {
      "text/plain": [
       "[[[1, 1], [1, 1]],\n",
       " [[1, 1, 1], [1, 1, 1], [1, 1, 1]],\n",
       " [[1, 1], [1, 1]],\n",
       " [[1, 1], [1, 1]],\n",
       " [[1, 1], [1, 1]],\n",
       " [[1, 1], [1, 1]],\n",
       " [[1, 1], [1, 1]]]"
      ]
     },
     "execution_count": 23,
     "metadata": {},
     "output_type": "execute_result"
    }
   ],
   "source": [
    "def find_squares_ones(matrix):\n",
    "    squares = []                    # initialize an empty list to store the squares of ones\n",
    "    for i in range(len(matrix)):    # loop through the rows of the matrix\n",
    "        for j in range(i+1):  # loop through the columns, but only the triangular half bottom of the adjacency matrix.\n",
    "            if matrix[i][j] == 1:        # if the current element is 1, start looking for a square\n",
    "                square_size = 1  # start with a square of size 1\n",
    "                # keep increasing the size of the square as long as all the elements within the square are 1's\n",
    "                while i + square_size < len(matrix) and j + square_size < len(matrix[i]) and all(matrix[x][y] == 1 for x in range(i, i + square_size + 1) for y in range(j, j + square_size + 1)):\n",
    "                    square_size += 1\n",
    "                # if we find a square of size greater than 1, add it to the list of squares\n",
    "                if square_size > 1:\n",
    "                    squares.append([[1]*square_size]*square_size)\n",
    "    return squares  # return the list of squares of ones\n",
    "find_squares_ones(b)"
   ]
  },
  {
   "cell_type": "markdown",
   "id": "54672db6",
   "metadata": {},
   "source": [
    "Perfect, now i have my squares. <br>\n",
    "Basically, this function takes a matrix as an argument and seeks for every possible square of 1s.<br>\n",
    "E.G :<br>\n",
    "1 1 1<br>\n",
    "1 1 1<br>\n",
    "1 1 1<br>\n",
    "or :<br>\n",
    "1 1 <br>\n",
    "1 1<br>\n",
    "or whatever <br>\n",
    "The return statement is a list. Each element is also a list that contains the coordinates of the top leftmost element and the bottom rightmost element."
   ]
  },
  {
   "cell_type": "markdown",
   "id": "7c643bac",
   "metadata": {},
   "source": [
    "<h3>Find squares function: this function extracts the squares in the matrix that only contain ones in them.</h3>\n",
    "<h3>The output is a list with containing the coordinates of the top left element and bottom right element of each square</h3>"
   ]
  },
  {
   "cell_type": "code",
   "execution_count": 24,
   "id": "9492f977",
   "metadata": {},
   "outputs": [
    {
     "data": {
      "text/plain": [
       "[[(2, 0), (3, 1)],\n",
       " [(3, 0), (5, 2)],\n",
       " [(3, 1), (4, 2)],\n",
       " [(4, 0), (5, 1)],\n",
       " [(4, 1), (5, 2)],\n",
       " [(4, 2), (5, 3)],\n",
       " [(8, 6), (9, 7)]]"
      ]
     },
     "execution_count": 24,
     "metadata": {},
     "output_type": "execute_result"
    }
   ],
   "source": [
    "def find_squares(matrix):\n",
    "    squares = []\n",
    "    sizes = []\n",
    "    for i in range(len(matrix)):   # initialize an empty list to store the squares of ones\n",
    "        for j in range(i+1):       # loop through the rows of the matrix\n",
    "            if matrix[i][j] == 1:  # loop through the columns, but only the triangular half bottom of the adjacency matrix.\n",
    "                square_size = 1    # if the current element is 1, start looking for a square\n",
    "                # start with a square of size 1\n",
    "                # keep increasing the size of the square as long as all the elements within the square are 1's\n",
    "                while i + square_size < len(matrix) and j + square_size < len(matrix[i]) and all(matrix[x][y] == 1 for x in range(i, i + square_size + 1) for y in range(j, j + square_size + 1)):\n",
    "                    square_size += 1\n",
    "                    # i + square_size < len(matrix) : ensures that our square bottom row is inside our matrix\n",
    "                    # j + square_size < len(matrix[i]) : ensures that the right column of the square is inside it too\n",
    "                    # all(matrix[x][y] == 1 for x in range(i, i + square_size + 1) for y in range(j, j + square_size + 1)) : ensures that all element of the square is 1\n",
    "                # if we find a square of size greater than 1, add it to the list of squares and sizes\n",
    "                if square_size > 1:\n",
    "                    squares.append([(i, j), (i + square_size - 1, j + square_size - 1)]) # Get the sizes in a list\n",
    "                    sizes.append(square_size)\n",
    "    return squares, sizes\n",
    "result, sizes = find_squares(b)\n",
    "result"
   ]
  },
  {
   "cell_type": "markdown",
   "id": "8f1922d4",
   "metadata": {},
   "source": [
    "<h3>find_squares_boolean, I created this function, but I didn't work with it , so don't consider it</h3>"
   ]
  },
  {
   "cell_type": "code",
   "execution_count": 25,
   "id": "a24ccd7c",
   "metadata": {},
   "outputs": [
    {
     "data": {
      "text/plain": [
       "[[(2, 0), (3, 1)],\n",
       " [(3, 0), (5, 2)],\n",
       " [(3, 1), (4, 2)],\n",
       " [(4, 0), (5, 1)],\n",
       " [(4, 1), (5, 2)],\n",
       " [(4, 2), (5, 3)],\n",
       " [(8, 6), (9, 7)]]"
      ]
     },
     "execution_count": 25,
     "metadata": {},
     "output_type": "execute_result"
    }
   ],
   "source": [
    "def find_squares_boolean(matrix):\n",
    "    squares = []\n",
    "    sizes = []\n",
    "    found_squares = False\n",
    "    for i in range(len(matrix)):\n",
    "        for j in range(i+1):\n",
    "            if matrix[i][j] == 1:\n",
    "                square_size = 1\n",
    "                while i + square_size < len(matrix) and j + square_size < len(matrix[i]) and all(matrix[x][y] == 1 for x in range(i, i + square_size + 1) for y in range(j, j + square_size + 1)):\n",
    "                    square_size += 1\n",
    "                if square_size > 1:\n",
    "                    squares.append([(i, j), (i + square_size - 1, j + square_size - 1)])\n",
    "                    sizes.append(square_size)\n",
    "                    found_squares = True\n",
    "    if found_squares:\n",
    "        return squares, sizes\n",
    "    else:\n",
    "        return False\n",
    "result"
   ]
  },
  {
   "cell_type": "code",
   "execution_count": 26,
   "id": "2a0360cc",
   "metadata": {},
   "outputs": [
    {
     "data": {
      "text/plain": [
       "[2, 3, 2, 2, 2, 2, 2]"
      ]
     },
     "execution_count": 26,
     "metadata": {},
     "output_type": "execute_result"
    }
   ],
   "source": [
    "sizes"
   ]
  },
  {
   "cell_type": "markdown",
   "id": "2c36eee2",
   "metadata": {},
   "source": [
    "<h3>Find squares function / another version I didn't work with. Don't consider it. </h3>"
   ]
  },
  {
   "cell_type": "code",
   "execution_count": 27,
   "id": "d0f02b4c",
   "metadata": {},
   "outputs": [
    {
     "data": {
      "text/plain": [
       "[[(2, 0), (3, 1), 2],\n",
       " [(3, 0), (5, 2), 3],\n",
       " [(3, 1), (4, 2), 2],\n",
       " [(4, 0), (5, 1), 2],\n",
       " [(4, 1), (5, 2), 2],\n",
       " [(4, 2), (5, 3), 2],\n",
       " [(8, 6), (9, 7), 2]]"
      ]
     },
     "execution_count": 27,
     "metadata": {},
     "output_type": "execute_result"
    }
   ],
   "source": [
    "def find_squares2(matrix):\n",
    "    squares = []\n",
    "    for i in range(len(matrix)):\n",
    "        for j in range(i+1):\n",
    "            if matrix[i][j] == 1:\n",
    "                square_size = 1\n",
    "                while i + square_size < len(matrix) and j + square_size < len(matrix[i]) and all(matrix[x][y] == 1 for x in range(i, i + square_size + 1) for y in range(j, j + square_size + 1)):\n",
    "                    square_size += 1\n",
    "                if square_size > 1:\n",
    "                    squares.append([(i, j), (i + square_size - 1, j + square_size - 1), square_size])\n",
    "    return squares\n",
    "result2 = find_squares2(b)\n",
    "result2 # this function returns the squares and their size in the same list"
   ]
  },
  {
   "cell_type": "markdown",
   "id": "12d83b2d",
   "metadata": {},
   "source": [
    "<h3>Extract first element (x axis) Function </h3>\n",
    "<h6>This function  gets the first elements of the tuples in each list in result variable.<br>\n",
    "    e.g: (2, 0), (3, 1) ; here this function would return (2,3)"
   ]
  },
  {
   "cell_type": "code",
   "execution_count": 28,
   "id": "c3ab4308",
   "metadata": {
    "scrolled": true
   },
   "outputs": [
    {
     "data": {
      "text/plain": [
       "[(2, 3), (3, 5), (3, 4), (4, 5), (4, 5), (4, 5), (8, 9)]"
      ]
     },
     "execution_count": 28,
     "metadata": {},
     "output_type": "execute_result"
    }
   ],
   "source": [
    "def extract_first_elements_x(lst):\n",
    "    index = []\n",
    "    for inner_list in lst:\n",
    "        inner_result = []\n",
    "        for tup in inner_list:\n",
    "            inner_result.append(tup[0])\n",
    "        index.append(tuple(inner_result))\n",
    "    return index\n",
    "x_result = extract_first_elements_x(result)\n",
    "x_result"
   ]
  },
  {
   "cell_type": "markdown",
   "id": "8c884939",
   "metadata": {},
   "source": [
    "<h3>Extract first element (Y axis) Function </h3>\n",
    "<h6>This function  gets the second elements of the tuples in each list in result variable.<br>\n",
    "    e.g: (2, 0), (3, 1) ; here this function would return (0,1)"
   ]
  },
  {
   "cell_type": "code",
   "execution_count": 29,
   "id": "09c554e8",
   "metadata": {},
   "outputs": [
    {
     "data": {
      "text/plain": [
       "[(0, 1), (0, 2), (1, 2), (0, 1), (1, 2), (2, 3), (6, 7)]"
      ]
     },
     "execution_count": 29,
     "metadata": {},
     "output_type": "execute_result"
    }
   ],
   "source": [
    "def extract_first_elements_y(lst):\n",
    "    index = []\n",
    "    for inner_list in lst:\n",
    "        inner_result = []\n",
    "        for tup in inner_list:\n",
    "            inner_result.append(tup[1])\n",
    "        index.append(tuple(inner_result))\n",
    "    return index\n",
    "y_result = extract_first_elements_y(result)\n",
    "y_result"
   ]
  },
  {
   "cell_type": "markdown",
   "id": "7e041ed5",
   "metadata": {},
   "source": [
    "<h3>A little summary</h3>"
   ]
  },
  {
   "cell_type": "code",
   "execution_count": 30,
   "id": "78ac5106",
   "metadata": {
    "scrolled": false
   },
   "outputs": [
    {
     "name": "stdout",
     "output_type": "stream",
     "text": [
      "[2, 3, 2, 2, 2, 2, 2]\n",
      "[(2, 3), (3, 5), (3, 4), (4, 5), (4, 5), (4, 5), (8, 9)]\n",
      "[(0, 1), (0, 2), (1, 2), (0, 1), (1, 2), (2, 3), (6, 7)]\n"
     ]
    }
   ],
   "source": [
    "print(sizes)\n",
    "print(x_result)\n",
    "print(y_result)"
   ]
  },
  {
   "cell_type": "markdown",
   "id": "eb04d814",
   "metadata": {},
   "source": [
    "<h3>This function returns the index of the index of the square that has the biggest size"
   ]
  },
  {
   "cell_type": "code",
   "execution_count": 32,
   "id": "5b7a5615",
   "metadata": {},
   "outputs": [
    {
     "data": {
      "text/plain": [
       "1"
      ]
     },
     "execution_count": 32,
     "metadata": {},
     "output_type": "execute_result"
    }
   ],
   "source": [
    "\n",
    "def index_of_biggest_value(lst):\n",
    "    max_val = max(lst)\n",
    "    max_index = lst.index(max_val)\n",
    "\n",
    "    if lst.count(max_val) == 1:\n",
    "        return max_index\n",
    "\n",
    "    closest_index = None\n",
    "    min_distance = len(lst)\n",
    "\n",
    "    for i, val in enumerate(lst):\n",
    "        if val == max_val:\n",
    "            distance = abs(i - max_index)\n",
    "            if distance < min_distance:\n",
    "                closest_index = i\n",
    "                min_distance = distance\n",
    "\n",
    "    return closest_index\n",
    "l = [2,2,2,2,3,2]\n",
    "biggest = index_of_biggest_value(sizes)\n",
    "biggest"
   ]
  },
  {
   "cell_type": "markdown",
   "id": "e5f9eda9",
   "metadata": {},
   "source": [
    "<h3> This function takes as argument the index and the lists of the coordinates of the squares.<br>\n",
    "    The output is the tuples that have the index i in the argument"
   ]
  },
  {
   "cell_type": "code",
   "execution_count": 34,
   "id": "2420d2d2",
   "metadata": {},
   "outputs": [
    {
     "data": {
      "text/plain": [
       "((3, 5), (0, 2))"
      ]
     },
     "execution_count": 34,
     "metadata": {},
     "output_type": "execute_result"
    }
   ],
   "source": [
    "def get_element_combination(index,result_x,result_y):\n",
    "    u = result_x[index]\n",
    "    v = result_y[index]\n",
    "    return u,v\n",
    "\n",
    "element_combination = get_element_combination(biggest,x_result,y_result)\n",
    "element_combination"
   ]
  },
  {
   "cell_type": "markdown",
   "id": "181a5784",
   "metadata": {},
   "source": [
    "<h3>This function takes 2 tuples as argument and makes an enumeration starting from the smallest element of both tuples to the biggest"
   ]
  },
  {
   "cell_type": "code",
   "execution_count": 35,
   "id": "0afc1ff0",
   "metadata": {},
   "outputs": [
    {
     "data": {
      "text/plain": [
       "[0, 1, 2, 3, 4, 5]"
      ]
     },
     "execution_count": 35,
     "metadata": {},
     "output_type": "execute_result"
    }
   ],
   "source": [
    "def get_numbers_between_tuples(tuples):\n",
    "    start = min([min(t) for t in tuples])\n",
    "    end = max([max(t) for t in tuples])\n",
    "    return [num for num in range(start, end+1)]\n",
    "numbers = get_numbers_between_tuples(element_combination)\n",
    "numbers"
   ]
  },
  {
   "cell_type": "markdown",
   "id": "3e378523",
   "metadata": {},
   "source": [
    "<h3>Get Combinations function</h3>\n",
    "<h3>This function does the clustering by creating a cliques from the list of numbers it gets as argument"
   ]
  },
  {
   "cell_type": "code",
   "execution_count": 36,
   "id": "79c68db9",
   "metadata": {},
   "outputs": [
    {
     "name": "stdout",
     "output_type": "stream",
     "text": [
      "[(0, 1), (0, 2), (0, 3), (0, 4), (0, 5), (1, 2), (1, 3), (1, 4), (1, 5), (2, 3), (2, 4), (2, 5), (3, 4), (3, 5), (4, 5)]\n"
     ]
    }
   ],
   "source": [
    "from itertools import combinations\n",
    "\n",
    "def get_combinations(lst):\n",
    "    # Generate all 2-dimensional combinations of the numbers in the list\n",
    "    combos = combinations(lst, 2)\n",
    "    \n",
    "    # Filter out any tuples that have a length other than 2\n",
    "    valid_combos = [combo for combo in combos if len(combo) == 2]\n",
    "    \n",
    "    return valid_combos\n",
    "\n",
    "combo = get_combinations(numbers)\n",
    "print(combo)"
   ]
  },
  {
   "cell_type": "markdown",
   "id": "7997dfb9",
   "metadata": {},
   "source": [
    "<h3>This function writes the clique we got from the combination in the file destination</h3>"
   ]
  },
  {
   "cell_type": "code",
   "execution_count": 13,
   "id": "d53fdba5",
   "metadata": {},
   "outputs": [],
   "source": [
    "def write_tuples_to_file(tuples_list, filename):\n",
    "    with open(filename, \"a\") as file:\n",
    "        for tpl in tuples_list:\n",
    "            incremented_tpl = (tpl[0] + 1, tpl[1] + 1)\n",
    "            file.write(str(incremented_tpl[0]) + \" \" + str(incremented_tpl[1]) + \"\\n\")\n",
    "write_tuples_to_file(combo,\"cluster\")"
   ]
  },
  {
   "cell_type": "markdown",
   "id": "12e56b88",
   "metadata": {},
   "source": [
    "<h3>After we got our clique graph, we should no longer consider the vertices from that clique in a new iteration.<br>\n",
    "<h3>So this matrix sets to 0 all the rows of the vertices from the clique "
   ]
  },
  {
   "cell_type": "code",
   "execution_count": 42,
   "id": "3d5ae911",
   "metadata": {},
   "outputs": [
    {
     "data": {
      "text/plain": [
       "array([[0, 0, 0, 0, 0, 0, 0, 0, 0, 0],\n",
       "       [0, 0, 0, 0, 0, 0, 0, 0, 0, 0],\n",
       "       [0, 0, 0, 0, 0, 0, 0, 0, 0, 0],\n",
       "       [0, 0, 0, 0, 0, 0, 0, 0, 0, 0],\n",
       "       [0, 0, 0, 0, 0, 0, 0, 0, 0, 0],\n",
       "       [0, 0, 0, 0, 0, 0, 0, 0, 0, 0],\n",
       "       [1, 0, 0, 1, 0, 0, 0, 0, 0, 0],\n",
       "       [1, 0, 0, 0, 0, 0, 1, 0, 0, 0],\n",
       "       [1, 1, 1, 0, 0, 0, 1, 1, 0, 0],\n",
       "       [0, 0, 1, 1, 1, 1, 1, 1, 1, 0]])"
      ]
     },
     "execution_count": 42,
     "metadata": {},
     "output_type": "execute_result"
    }
   ],
   "source": [
    "def set_triangular_rows_to_zero(matrix, row_indexes):\n",
    "    for i in row_indexes:\n",
    "        matrix[i, :i] = 0\n",
    "    return matrix\n",
    "#d = np.tril(a)\n",
    "b # You can see the difference that happened to b after executing the function"
   ]
  },
  {
   "cell_type": "markdown",
   "id": "d7132d90",
   "metadata": {},
   "source": [
    "<H2> The final function that summaries all the other functions</h2><br>"
   ]
  },
  {
   "cell_type": "code",
   "execution_count": 44,
   "id": "8a1850e3",
   "metadata": {},
   "outputs": [],
   "source": [
    "def make_cluster(matrix,filename):\n",
    "    result, sizes = find_squares(b)\n",
    "    while result : \n",
    "        x_result = extract_first_elements_x(result)\n",
    "        y_result = extract_first_elements_y(result)\n",
    "        biggest = index_of_biggest_value(sizes)\n",
    "        elements_of_combination = get_element_combination(biggest,x_result,y_result)\n",
    "        numbers = get_numbers_between_tuples(elements_of_combination)\n",
    "        combo = get_combinations(numbers)\n",
    "        write_tuples_to_file(combo,filename)\n",
    "        matrix = set_triangular_rows_to_zero(matrix, numbers)\n",
    "        result,sizes = find_squares(b)\n",
    "        print(\"iteration\")\n",
    "    else : \n",
    "        print(\"Done\")\n",
    "        \n",
    "\"\"\"def make_clusters(matrix, filename):\n",
    "    result, sizes = find_squares(matrix)\n",
    "    #while result : \n",
    "    x_result = extract_first_elements_x(result)\n",
    "    y_result = extract_first_elements_y(result)\n",
    "    biggest = index_of_biggest_value(sizes)\n",
    "    elements_of_combination = get_element_combination(biggest)\n",
    "    numbers = get_numbers_between_tuples(elements_of_combination)\n",
    "    combo = get_combinations(numbers)\n",
    "    write_tuples_to_file(combo,filename)\n",
    "    matrix = set_triangular_rows_to_zero(matrix, numbers)\n",
    "    result,sizes = find_squares(matrix)\n",
    "    if result :\n",
    "        return make_clusters(matrix,filename)\n",
    "    else : \n",
    "        print(\"Done\")\"\"\"\n"
   ]
  }
 ],
 "metadata": {
  "kernelspec": {
   "display_name": "Python 3 (ipykernel)",
   "language": "python",
   "name": "python3"
  },
  "language_info": {
   "codemirror_mode": {
    "name": "ipython",
    "version": 3
   },
   "file_extension": ".py",
   "mimetype": "text/x-python",
   "name": "python",
   "nbconvert_exporter": "python",
   "pygments_lexer": "ipython3",
   "version": "3.9.13"
  }
 },
 "nbformat": 4,
 "nbformat_minor": 5
}
