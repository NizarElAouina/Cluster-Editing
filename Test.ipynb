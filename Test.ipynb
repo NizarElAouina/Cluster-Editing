{
 "cells": [
  {
   "cell_type": "markdown",
   "id": "f5dbef86",
   "metadata": {},
   "source": [
    "Ouvrir le fichier et représenter le graphe"
   ]
  },
  {
   "cell_type": "code",
   "execution_count": 21,
   "id": "450dc6c5",
   "metadata": {
    "scrolled": true
   },
   "outputs": [],
   "source": [
    "graph = open(\"C:/Users/nizar/Desktop/wiss/heur/heur003.gr\", 'r')\n",
    "p,cep,e,f=graph.readline().split()\n",
    "#next(graph)\n",
    "lines = graph.readlines()\n",
    "#for line in lines:\n",
    "#    print(line)"
   ]
  },
  {
   "cell_type": "markdown",
   "id": "f7086b20",
   "metadata": {},
   "source": [
    "<h3>Represent Data in adjancency matrix </h3>"
   ]
  },
  {
   "cell_type": "code",
   "execution_count": 2,
   "id": "43b3c73b",
   "metadata": {},
   "outputs": [
    {
     "name": "stdout",
     "output_type": "stream",
     "text": [
      "[[0 1 1 1 1 1 1 1 1 0]\n",
      " [1 0 1 1 1 1 0 0 1 0]\n",
      " [1 1 0 1 1 1 0 0 1 1]\n",
      " [1 1 1 0 1 1 1 0 0 1]\n",
      " [1 1 1 1 0 1 0 0 0 1]\n",
      " [1 1 1 1 1 0 0 0 0 1]\n",
      " [1 0 0 1 0 0 0 1 1 1]\n",
      " [1 0 0 0 0 0 1 0 1 1]\n",
      " [1 1 1 0 0 0 1 1 0 1]\n",
      " [0 0 1 1 1 1 1 1 1 0]]\n"
     ]
    }
   ],
   "source": [
    "import numpy as np\n",
    "import itertools\n",
    "\n",
    "graph = open(\"C:/Users/nizar/Desktop/wiss/heur/heur001.gr\", 'r')\n",
    "p,cep,n_vertices, n_edges=graph.readline().split()    #get first line of data in variables\n",
    "adjacency_matrix = [[0] * int(n_vertices) for _ in range(int(n_vertices))]  #Declare a n_edges dimension matrix full of zeros \n",
    "for line in graph:     #Traverse the matrix\n",
    "    u, v = map(int, line.split())    #Split the line into two variables since we have 2 integers\n",
    "    adjacency_matrix[u-1][v-1] = 1   #Replacing zeros with 1 if there is a link between 2 vertices\n",
    "    adjacency_matrix[v-1][u-1] = 1\n",
    "#print(adjacency_matrix)\n",
    "a=np.matrix(adjacency_matrix)        #We want a numpy matrix huh ;)\n",
    "print(a) \n"
   ]
  },
  {
   "cell_type": "markdown",
   "id": "a9854472",
   "metadata": {},
   "source": [
    "For visualisation purposes, i did this"
   ]
  },
  {
   "cell_type": "code",
   "execution_count": 77,
   "id": "2fe483e0",
   "metadata": {},
   "outputs": [
    {
     "name": "stdout",
     "output_type": "stream",
     "text": [
      "[[0 0 0 0 0 0 0 0 0 0]\n",
      " [1 0 0 0 0 0 0 0 0 0]\n",
      " [1 1 0 0 0 0 0 0 0 0]\n",
      " [1 1 1 0 0 0 0 0 0 0]\n",
      " [1 1 1 1 0 0 0 0 0 0]\n",
      " [1 1 1 1 1 0 0 0 0 0]\n",
      " [1 0 0 1 0 0 0 0 0 0]\n",
      " [1 0 0 0 0 0 1 0 0 0]\n",
      " [1 1 1 0 0 0 1 1 0 0]\n",
      " [0 0 1 1 1 1 1 1 1 0]]\n",
      "1 \n",
      "1 1 \n",
      "1 1 1 \n",
      "1 1 1 1 \n",
      "1 1 1 1 1 \n",
      "1 1 \n",
      "1 1 \n",
      "1 1 1 1 1 \n",
      "1 1 1 1 1 1 1 \n"
     ]
    }
   ],
   "source": [
    "b=np.tril(a)  #For esthetical reasons, I only keep the lower part of the matrix, no data is lost though\n",
    "rows, cols = np.tril_indices(len(a))\n",
    "\n",
    "#for i in range(len(b)):\n",
    "    #for j in range(i):\n",
    "       # print(b[i][j])\n",
    "print(b)\n",
    "for i in range(1,len(b),1):  # loop over rows\n",
    "    for j in range(i+1):  # loop over columns\n",
    "        if b[i][j] == 1:\n",
    "            print(\"1\", end=\" \")\n",
    "        #print(i, end=\" \")   print a star and a space\n",
    "    print() "
   ]
  },
  {
   "cell_type": "markdown",
   "id": "c9d4099b",
   "metadata": {},
   "source": [
    "Here is a code that works pretty well"
   ]
  },
  {
   "cell_type": "markdown",
   "id": "b4dd7769",
   "metadata": {},
   "source": [
    "<h4>Find squares function, but I didn't work with it actually </h4>"
   ]
  },
  {
   "cell_type": "code",
   "execution_count": 78,
   "id": "0694d9c3",
   "metadata": {},
   "outputs": [
    {
     "data": {
      "text/plain": [
       "[[[1, 1], [1, 1]],\n",
       " [[1, 1, 1], [1, 1, 1], [1, 1, 1]],\n",
       " [[1, 1], [1, 1]],\n",
       " [[1, 1], [1, 1]],\n",
       " [[1, 1], [1, 1]],\n",
       " [[1, 1], [1, 1]],\n",
       " [[1, 1], [1, 1]]]"
      ]
     },
     "execution_count": 78,
     "metadata": {},
     "output_type": "execute_result"
    }
   ],
   "source": [
    "def find_squares(matrix):\n",
    "    squares = []                    # initialize an empty list to store the squares of ones\n",
    "    for i in range(len(matrix)):    # loop through the rows of the matrix\n",
    "        for j in range(i+1):  # loop through the columns, but only the triangular half bottom of the adjacency matrix.\n",
    "            if matrix[i][j] == 1:        # if the current element is 1, start looking for a square\n",
    "                square_size = 1  # start with a square of size 1\n",
    "                # keep increasing the size of the square as long as all the elements within the square are 1's\n",
    "                while i + square_size < len(matrix) and j + square_size < len(matrix[i]) and all(matrix[x][y] == 1 for x in range(i, i + square_size + 1) for y in range(j, j + square_size + 1)):\n",
    "                    square_size += 1\n",
    "                # if we find a square of size greater than 1, add it to the list of squares\n",
    "                if square_size > 1:\n",
    "                    squares.append([[1]*square_size]*square_size)\n",
    "    return squares  # return the list of squares of ones\n",
    "find_squares(b)"
   ]
  },
  {
   "cell_type": "markdown",
   "id": "54672db6",
   "metadata": {},
   "source": [
    "Perfect, now i have my squares. <br>\n",
    "Basically, this function takes a matrix as an argument and seeks for every possible square of 1s.<br>\n",
    "E.G :<br>\n",
    "1 1 1<br>\n",
    "1 1 1<br>\n",
    "1 1 1<br>\n",
    "or :<br>\n",
    "1 1 <br>\n",
    "1 1<br>\n",
    "or whatever <br>\n",
    "The return statement is a list. Each element is also a list that contains the coordinates of the top leftmost element and the bottom rightmost element."
   ]
  },
  {
   "cell_type": "markdown",
   "id": "bae2041e",
   "metadata": {},
   "source": [
    "<h3>Find squares function</h3>"
   ]
  },
  {
   "cell_type": "code",
   "execution_count": 88,
   "id": "9492f977",
   "metadata": {},
   "outputs": [
    {
     "data": {
      "text/plain": [
       "[[(2, 0), (3, 1)],\n",
       " [(3, 0), (5, 2)],\n",
       " [(3, 1), (4, 2)],\n",
       " [(4, 0), (5, 1)],\n",
       " [(4, 1), (5, 2)],\n",
       " [(4, 2), (5, 3)],\n",
       " [(8, 6), (9, 7)]]"
      ]
     },
     "execution_count": 88,
     "metadata": {},
     "output_type": "execute_result"
    }
   ],
   "source": [
    "def find_squares(matrix):\n",
    "    squares = []\n",
    "    sizes = []\n",
    "    for i in range(len(matrix)):   # initialize an empty list to store the squares of ones\n",
    "        for j in range(i+1):       # loop through the rows of the matrix\n",
    "            if matrix[i][j] == 1:  # loop through the columns, but only the triangular half bottom of the adjacency matrix.\n",
    "                square_size = 1    # if the current element is 1, start looking for a square\n",
    "                # start with a square of size 1\n",
    "                # keep increasing the size of the square as long as all the elements within the square are 1's\n",
    "                while i + square_size < len(matrix) and j + square_size < len(matrix[i]) and all(matrix[x][y] == 1 for x in range(i, i + square_size + 1) for y in range(j, j + square_size + 1)):\n",
    "                    square_size += 1\n",
    "                    # i + square_size < len(matrix) : ensures that our square bottom row is inside our matrix\n",
    "                    # j + square_size < len(matrix[i]) : ensures that the right column of the square is inside it too\n",
    "                    # all(matrix[x][y] == 1 for x in range(i, i + square_size + 1) for y in range(j, j + square_size + 1)) : ensures that all element of the square is 1\n",
    "                # if we find a square of size greater than 1, add it to the list of squares and sizes\n",
    "                if square_size > 1:\n",
    "                    squares.append([(i, j), (i + square_size - 1, j + square_size - 1)]) # Get the sizes in a list\n",
    "                    sizes.append(square_size)\n",
    "    return squares, sizes\n",
    "result, sizes = find_squares(b)\n",
    "result"
   ]
  },
  {
   "cell_type": "code",
   "execution_count": 84,
   "id": "21528894",
   "metadata": {},
   "outputs": [
    {
     "data": {
      "text/plain": [
       "[2, 3, 2, 2, 2, 2, 2]"
      ]
     },
     "execution_count": 84,
     "metadata": {},
     "output_type": "execute_result"
    }
   ],
   "source": [
    "sizes"
   ]
  },
  {
   "cell_type": "markdown",
   "id": "f270ce9d",
   "metadata": {},
   "source": [
    "<h3>Find squares function / another version </h3>"
   ]
  },
  {
   "cell_type": "code",
   "execution_count": 80,
   "id": "984623a3",
   "metadata": {},
   "outputs": [
    {
     "data": {
      "text/plain": [
       "[[(2, 0), (3, 1), 2],\n",
       " [(3, 0), (5, 2), 3],\n",
       " [(3, 1), (4, 2), 2],\n",
       " [(4, 0), (5, 1), 2],\n",
       " [(4, 1), (5, 2), 2],\n",
       " [(4, 2), (5, 3), 2],\n",
       " [(8, 6), (9, 7), 2]]"
      ]
     },
     "execution_count": 80,
     "metadata": {},
     "output_type": "execute_result"
    }
   ],
   "source": [
    "def find_squares2(matrix):\n",
    "    squares = []\n",
    "    for i in range(len(matrix)):\n",
    "        for j in range(i+1):\n",
    "            if matrix[i][j] == 1:\n",
    "                square_size = 1\n",
    "                while i + square_size < len(matrix) and j + square_size < len(matrix[i]) and all(matrix[x][y] == 1 for x in range(i, i + square_size + 1) for y in range(j, j + square_size + 1)):\n",
    "                    square_size += 1\n",
    "                if square_size > 1:\n",
    "                    squares.append([(i, j), (i + square_size - 1, j + square_size - 1), square_size])\n",
    "    return squares\n",
    "result2 = find_squares2(b)\n",
    "result2 # this function returns the squares and their size in the same list"
   ]
  },
  {
   "cell_type": "markdown",
   "id": "15c034fa",
   "metadata": {},
   "source": [
    "<h3>Extract first element (x axis) Function </h3>"
   ]
  },
  {
   "cell_type": "code",
   "execution_count": 93,
   "id": "c3ab4308",
   "metadata": {
    "scrolled": true
   },
   "outputs": [
    {
     "data": {
      "text/plain": [
       "[(2, 3), (3, 5), (3, 4), (4, 5), (4, 5), (4, 5), (8, 9)]"
      ]
     },
     "execution_count": 93,
     "metadata": {},
     "output_type": "execute_result"
    }
   ],
   "source": [
    "def extract_first_elements_x(lst):\n",
    "    index = []\n",
    "    for inner_list in lst:\n",
    "        inner_result = []\n",
    "        for tup in inner_list:\n",
    "            inner_result.append(tup[0])\n",
    "        index.append(tuple(inner_result))\n",
    "    return index\n",
    "x_result = extract_first_elements_x(result)\n",
    "x_result"
   ]
  },
  {
   "cell_type": "markdown",
   "id": "b39c90c1",
   "metadata": {},
   "source": [
    "<h3>Extract first element (Y axis) Function </h3>"
   ]
  },
  {
   "cell_type": "code",
   "execution_count": 95,
   "id": "caaaaac3",
   "metadata": {},
   "outputs": [
    {
     "data": {
      "text/plain": [
       "[(0, 1), (0, 2), (1, 2), (0, 1), (1, 2), (2, 3), (6, 7)]"
      ]
     },
     "execution_count": 95,
     "metadata": {},
     "output_type": "execute_result"
    }
   ],
   "source": [
    "def extract_first_elements_y(lst):\n",
    "    index = []\n",
    "    for inner_list in lst:\n",
    "        inner_result = []\n",
    "        for tup in inner_list:\n",
    "            inner_result.append(tup[1])\n",
    "        index.append(tuple(inner_result))\n",
    "    return index\n",
    "y_result = extract_first_elements_y(result)\n",
    "y_result"
   ]
  },
  {
   "cell_type": "code",
   "execution_count": 87,
   "id": "3fd8caca",
   "metadata": {},
   "outputs": [
    {
     "name": "stdout",
     "output_type": "stream",
     "text": [
      "[2, 3, 2, 2, 2, 2, 2]\n",
      "[(2, 3), (3, 5), (3, 4), (4, 5), (4, 5), (4, 5), (8, 9)]\n",
      "[(0, 1), (0, 2), (1, 2), (0, 1), (1, 2), (2, 3), (6, 7)]\n"
     ]
    }
   ],
   "source": [
    "print(sizes)\n",
    "print(x_result)\n",
    "print(y_result)"
   ]
  },
  {
   "cell_type": "code",
   "execution_count": 96,
   "id": "d3a7b560",
   "metadata": {},
   "outputs": [
    {
     "data": {
      "text/plain": [
       "1"
      ]
     },
     "execution_count": 96,
     "metadata": {},
     "output_type": "execute_result"
    }
   ],
   "source": [
    "def max_index(lst):\n",
    "    biggest = lst.index(max(sizes))\n",
    "    return biggest\n",
    "biggest = max_index(sizes)\n",
    "biggest"
   ]
  },
  {
   "cell_type": "code",
   "execution_count": 97,
   "id": "161b37d2",
   "metadata": {},
   "outputs": [
    {
     "data": {
      "text/plain": [
       "((3, 5), (0, 2))"
      ]
     },
     "execution_count": 97,
     "metadata": {},
     "output_type": "execute_result"
    }
   ],
   "source": [
    "def get_element_combination(index):\n",
    "    u = x_result[index]\n",
    "    v = y_result[index]\n",
    "    return u,v\n",
    "element_combination = get_element_combination(biggest)\n",
    "element_combination"
   ]
  },
  {
   "cell_type": "code",
   "execution_count": 98,
   "id": "9eddd65c",
   "metadata": {},
   "outputs": [
    {
     "data": {
      "text/plain": [
       "[3, 4, 5, 0, 1, 2]"
      ]
     },
     "execution_count": 98,
     "metadata": {},
     "output_type": "execute_result"
    }
   ],
   "source": [
    "def get_numbers(element_combination):\n",
    "    numbers = []\n",
    "    for tup in t:\n",
    "        for i in range(tup[0], tup[1]+1):\n",
    "            numbers.append(i)\n",
    "    return numbers\n",
    "numbers = get_numbers(element_combination)\n",
    "numbers"
   ]
  },
  {
   "cell_type": "markdown",
   "id": "65ee9136",
   "metadata": {},
   "source": [
    "<h3>Get Combinations function</h3>"
   ]
  },
  {
   "cell_type": "code",
   "execution_count": 104,
   "id": "fdcaacae",
   "metadata": {},
   "outputs": [
    {
     "data": {
      "text/plain": [
       "[(3, 4),\n",
       " (3, 5),\n",
       " (3, 0),\n",
       " (3, 1),\n",
       " (3, 2),\n",
       " (4, 5),\n",
       " (4, 0),\n",
       " (4, 1),\n",
       " (4, 2),\n",
       " (5, 0),\n",
       " (5, 1),\n",
       " (5, 2),\n",
       " (0, 1),\n",
       " (0, 2),\n",
       " (1, 2)]"
      ]
     },
     "execution_count": 104,
     "metadata": {},
     "output_type": "execute_result"
    }
   ],
   "source": [
    "from itertools import combinations\n",
    "\n",
    "def get_combinations(lst):\n",
    "    # Generate all 2-dimensional combinations of the numbers in the list\n",
    "    combos = combinations(lst, 2)\n",
    "    \n",
    "    # Filter out any tuples that have a length other than 2\n",
    "    valid_combos = [combo for combo in combos if len(combo) == 2]\n",
    "    \n",
    "    return valid_combos\n",
    "combinations = get_combinations(numbers)\n",
    "combinations"
   ]
  }
 ],
 "metadata": {
  "kernelspec": {
   "display_name": "Python 3 (ipykernel)",
   "language": "python",
   "name": "python3"
  },
  "language_info": {
   "codemirror_mode": {
    "name": "ipython",
    "version": 3
   },
   "file_extension": ".py",
   "mimetype": "text/x-python",
   "name": "python",
   "nbconvert_exporter": "python",
   "pygments_lexer": "ipython3",
   "version": "3.9.13"
  }
 },
 "nbformat": 4,
 "nbformat_minor": 5
}
