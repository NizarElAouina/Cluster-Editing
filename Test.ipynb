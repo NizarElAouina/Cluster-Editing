{
 "cells": [
  {
   "cell_type": "markdown",
   "id": "f5dbef86",
   "metadata": {},
   "source": [
    "Ouvrir le fichier et représenter le graphe"
   ]
  },
  {
   "cell_type": "code",
   "execution_count": 21,
   "id": "450dc6c5",
   "metadata": {
    "scrolled": true
   },
   "outputs": [],
   "source": [
    "graph = open(\"C:/Users/nizar/Desktop/wiss/heur/heur003.gr\", 'r')\n",
    "p,cep,e,f=graph.readline().split()\n",
    "#next(graph)\n",
    "lines = graph.readlines()\n",
    "#for line in lines:\n",
    "#    print(line)"
   ]
  },
  {
   "cell_type": "code",
   "execution_count": 92,
   "id": "43b3c73b",
   "metadata": {},
   "outputs": [
    {
     "name": "stdout",
     "output_type": "stream",
     "text": [
      "[[0 1 1 1 1 1 1 1 1 0]\n",
      " [1 0 1 1 1 1 0 0 1 0]\n",
      " [1 1 0 1 1 1 0 0 1 1]\n",
      " [1 1 1 0 1 1 1 0 0 1]\n",
      " [1 1 1 1 0 1 0 0 0 1]\n",
      " [1 1 1 1 1 0 0 0 0 1]\n",
      " [1 0 0 1 0 0 0 1 1 1]\n",
      " [1 0 0 0 0 0 1 0 1 1]\n",
      " [1 1 1 0 0 0 1 1 0 1]\n",
      " [0 0 1 1 1 1 1 1 1 0]]\n"
     ]
    }
   ],
   "source": [
    "import numpy as np\n",
    "graph = open(\"C:/Users/nizar/Desktop/wiss/heur/heur001.gr\", 'r')\n",
    "p,cep,n_vertices, n_edges=graph.readline().split()    #get first line of data in variables\n",
    "adjacency_matrix = [[0] * int(n_vertices) for _ in range(int(n_vertices))]  #Declare a n_edges dimension matrix full of zeros \n",
    "for line in graph:     #Traverse the matrix\n",
    "    u, v = map(int, line.split())    #Split the line into two variables since we have 2 integers\n",
    "    adjacency_matrix[u-1][v-1] = 1   #Replacing zeros with 1 if there is a link between 2 edges\n",
    "    adjacency_matrix[v-1][u-1] = 1\n",
    "#print(adjacency_matrix)\n",
    "a=np.matrix(adjacency_matrix)        #We want a numpy matrix huh ;)\n",
    "print(a) \n"
   ]
  },
  {
   "cell_type": "markdown",
   "id": "1c781def",
   "metadata": {},
   "source": [
    "I tried to view only the y, but i quickly forget what I had in mind, i prefered the first approach"
   ]
  },
  {
   "cell_type": "code",
   "execution_count": 93,
   "id": "9f0a9089",
   "metadata": {
    "scrolled": false
   },
   "outputs": [
    {
     "name": "stdout",
     "output_type": "stream",
     "text": [
      "y \n",
      "y y \n",
      "y y y \n",
      "y y y y \n",
      "y y y y y \n",
      "y y \n",
      "y y \n",
      "y y y y y \n",
      "y y y y y y y \n",
      "[[0 0 0 0 0 0 0 0 0 0]\n",
      " [1 0 0 0 0 0 0 0 0 0]\n",
      " [1 1 0 0 0 0 0 0 0 0]\n",
      " [1 1 1 0 0 0 0 0 0 0]\n",
      " [1 1 1 1 0 0 0 0 0 0]\n",
      " [1 1 1 1 1 0 0 0 0 0]\n",
      " [1 0 0 1 0 0 0 0 0 0]\n",
      " [1 0 0 0 0 0 1 0 0 0]\n",
      " [1 1 1 0 0 0 1 1 0 0]\n",
      " [0 0 1 1 1 1 1 1 1 0]]\n"
     ]
    }
   ],
   "source": [
    "b=np.tril(a)  #For esthetical reasons, I only keep the lower part of the matrix, no data is lost though\n",
    "rows, cols = np.tril_indices(len(a))\n",
    "\n",
    "#for i in range(len(b)):\n",
    "    #for j in range(i):\n",
    "       # print(b[i][j])\n",
    "for i in range(1,len(b),1):  # loop over rows\n",
    "    for j in range(i+1):  # loop over columns\n",
    "        if b[i][j] == 1:\n",
    "            print(\"y\", end=\" \")\n",
    "        #print(i, end=\" \")   print a star and a space\n",
    "    print() \n",
    "print(b)"
   ]
  },
  {
   "cell_type": "markdown",
   "id": "c9d4099b",
   "metadata": {},
   "source": [
    "Here is a code that works pretty well"
   ]
  },
  {
   "cell_type": "code",
   "execution_count": 94,
   "id": "0694d9c3",
   "metadata": {},
   "outputs": [
    {
     "data": {
      "text/plain": [
       "[[[1, 1], [1, 1]],\n",
       " [[1, 1, 1], [1, 1, 1], [1, 1, 1]],\n",
       " [[1, 1], [1, 1]],\n",
       " [[1, 1], [1, 1]],\n",
       " [[1, 1], [1, 1]],\n",
       " [[1, 1], [1, 1]],\n",
       " [[1, 1], [1, 1]]]"
      ]
     },
     "execution_count": 94,
     "metadata": {},
     "output_type": "execute_result"
    }
   ],
   "source": [
    "def find_squares(matrix):\n",
    "    squares = []                    # initialize an empty list to store the squares of ones\n",
    "    for i in range(len(matrix)):    # loop through the rows of the matrix\n",
    "        for j in range(i+1):  # loop through the columns, but only the triangular half bottom of the adjacency matrix.\n",
    "            if matrix[i][j] == 1:        # if the current element is 1, start looking for a square\n",
    "                square_size = 1  # start with a square of size 1\n",
    "                # keep increasing the size of the square as long as all the elements within the square are 1's\n",
    "                while i + square_size < len(matrix) and j + square_size < len(matrix[i]) and all(matrix[x][y] == 1 for x in range(i, i + square_size + 1) for y in range(j, j + square_size + 1)):\n",
    "                    square_size += 1\n",
    "                # if we find a square of size greater than 1, add it to the list of squares\n",
    "                if square_size > 1:\n",
    "                    squares.append([[1]*square_size]*square_size)\n",
    "    return squares  # return the list of squares of ones\n",
    "find_squares(b)"
   ]
  },
  {
   "cell_type": "markdown",
   "id": "54672db6",
   "metadata": {},
   "source": [
    "Perfect, now i have my squares.\n",
    "Basically, this function takes a matrix as an argument and seeks for every possible square of 1s.\n",
    "E.g: 1 1 1    or   1 1    or whatever\n",
    "     1 1 1         1 1\n",
    "     1 1 1\n",
    "The return statement is a list. Each element is also a list that contains the coordinates of the top leftmost element and the bottom rightmost element."
   ]
  },
  {
   "cell_type": "code",
   "execution_count": 95,
   "id": "9492f977",
   "metadata": {},
   "outputs": [
    {
     "data": {
      "text/plain": [
       "[[(2, 0), (3, 1)],\n",
       " [(3, 0), (5, 2)],\n",
       " [(3, 1), (4, 2)],\n",
       " [(4, 0), (5, 1)],\n",
       " [(4, 1), (5, 2)],\n",
       " [(4, 2), (5, 3)],\n",
       " [(8, 6), (9, 7)]]"
      ]
     },
     "execution_count": 95,
     "metadata": {},
     "output_type": "execute_result"
    }
   ],
   "source": [
    "def find_squares2(matrix):\n",
    "    squares = []\n",
    "    for i in range(len(matrix)):   # initialize an empty list to store the squares of ones\n",
    "        for j in range(i+1):       # loop through the rows of the matrix\n",
    "            if matrix[i][j] == 1:  # loop through the columns, but only the triangular half bottom of the adjacency matrix.\n",
    "                square_size = 1    # if the current element is 1, start looking for a square\n",
    "                # start with a square of size 1\n",
    "                # keep increasing the size of the square as long as all the elements within the square are 1's\n",
    "                while i + square_size < len(matrix) and j + square_size < len(matrix[i]) and all(matrix[x][y] == 1 for x in range(i, i + square_size + 1) for y in range(j, j + square_size + 1)):\n",
    "                    square_size += 1\n",
    "                    # i + square_size < len(matrix) : ensures that our square bottom row is inside our matrix\n",
    "                    # j + square_size < len(matrix[i]) : ensures that the right column of the square is inside it too\n",
    "                    # all(matrix[x][y] == 1 for x in range(i, i + square_size + 1) for y in range(j, j + square_size + 1)) : ensures that all element of the square is 1\n",
    "                # if we find a square of size greater than 1, add it to the list of squares\n",
    "                if square_size > 1:\n",
    "                    squares.append([(i, j), (i + square_size - 1, j + square_size - 1)])\n",
    "    return squares\n",
    "find_squares2(b)"
   ]
  },
  {
   "cell_type": "code",
   "execution_count": null,
   "id": "c3ab4308",
   "metadata": {
    "scrolled": true
   },
   "outputs": [],
   "source": []
  }
 ],
 "metadata": {
  "kernelspec": {
   "display_name": "Python 3 (ipykernel)",
   "language": "python",
   "name": "python3"
  },
  "language_info": {
   "codemirror_mode": {
    "name": "ipython",
    "version": 3
   },
   "file_extension": ".py",
   "mimetype": "text/x-python",
   "name": "python",
   "nbconvert_exporter": "python",
   "pygments_lexer": "ipython3",
   "version": "3.9.13"
  }
 },
 "nbformat": 4,
 "nbformat_minor": 5
}
